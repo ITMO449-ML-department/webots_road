{
 "cells": [
  {
   "cell_type": "code",
   "execution_count": 1,
   "metadata": {},
   "outputs": [],
   "source": [
    "import numpy as np\n",
    "from matplotlib import pyplot as plt"
   ]
  },
  {
   "cell_type": "code",
   "execution_count": 2,
   "metadata": {},
   "outputs": [],
   "source": [
    "map_ = np.ones((5000,5000))\n",
    "\n",
    "def add_obstacle(x, y, a, b):\n",
    "    global map_\n",
    "    x, y, a, b = map(int, [2500 + x*1000, 2500 - y*1000, a*500, b*500])\n",
    "    map_[y-b:y+b,x-a:x+a] = 0\n",
    "\n",
    "\n",
    "    \n",
    "add_obstacle(0,-1,0.01,0.5)\n",
    "add_obstacle(-0.5,-0.75,1,0.01)\n",
    "add_obstacle(0.5,-0.75,1,0.01)\n",
    "add_obstacle(-1.5,-0.75,1,0.01)\n",
    "add_obstacle(-2,0.5,0.01,2.5)\n",
    "add_obstacle(0,-2,0.01,1)\n",
    "add_obstacle(0,1.5,0.01,2)\n",
    "add_obstacle(1,-1,0.01,0.5)\n",
    "add_obstacle(0,0.5,3,0.01)\n",
    "add_obstacle(1.5,1.5,0.5,0.5)"
   ]
  },
  {
   "cell_type": "code",
   "execution_count": 3,
   "metadata": {},
   "outputs": [
    {
     "data": {
      "text/plain": [
       "<matplotlib.image.AxesImage at 0x7f95dcb72530>"
      ]
     },
     "execution_count": 3,
     "metadata": {},
     "output_type": "execute_result"
    },
    {
     "data": {
      "image/png": "[encoded data removed]",
      "text/plain": [
       "<Figure size 640x480 with 1 Axes>"
      ]
     },
     "metadata": {},
     "output_type": "display_data"
    }
   ],
   "source": [
    "plt.imshow(map_,\"gray\")"
   ]
  },
  {
   "cell_type": "code",
   "execution_count": 4,
   "metadata": {},
   "outputs": [],
   "source": [
    "def is_obst(x, y):\n",
    "    x, y= map(int, [ 2500 - y*1000, 2500 + x*1000])\n",
    "    return x < 0 or x >= map_.shape[0] or y < 0 or y >= map_.shape[1] or map_[x,y] == 0"
   ]
  },
  {
   "cell_type": "code",
   "execution_count": 11,
   "metadata": {},
   "outputs": [],
   "source": [
    "N = 3\n",
    "def modelate_lidar(x, y, angle, ran):\n",
    "    ang = np.linspace(angle + 120/180*np.pi,angle - 120/180*np.pi,N)\n",
    "    output = np.zeros_like(ang)\n",
    "    ang[ang<-np.pi] += 2*np.pi\n",
    "    ang[ang>-np.pi] -= 2*np.pi\n",
    "    for i, a in enumerate(ang):\n",
    "        x2, y2 = x + ran*np.cos(a), y + ran*np.sin(a)\n",
    "        steps= 10**4\n",
    "        for step in range(steps):\n",
    "            x_s = x + step*(x2-x)/steps\n",
    "            y_s = y + step*(y2-y)/steps\n",
    "            if is_obst(x_s,y_s):\n",
    "                output[i] = np.sqrt((x_s-x)**2 + (y_s-y)**2)\n",
    "                break\n",
    "        else:\n",
    "            output[i] = np.inf\n",
    "    return output"
   ]
  },
  {
   "cell_type": "code",
   "execution_count": 12,
   "metadata": {},
   "outputs": [
    {
     "data": {
      "text/plain": [
       "array([0.8604, 1.4952, 1.155 ])"
      ]
     },
     "execution_count": 12,
     "metadata": {},
     "output_type": "execute_result"
    }
   ],
   "source": [
    "modelate_lidar(-1.5,-1.5,0,3)"
   ]
  },
  {
   "cell_type": "code",
   "execution_count": 7,
   "metadata": {},
   "outputs": [
    {
     "data": {
      "text/plain": [
       "<matplotlib.image.AxesImage at 0x7f95cebc9720>"
      ]
     },
     "execution_count": 7,
     "metadata": {},
     "output_type": "execute_result"
    },
    {
     "data": {
      "image/png": "[encoded data removed]",
      "text/plain": [
       "<Figure size 640x480 with 1 Axes>"
      ]
     },
     "metadata": {},
     "output_type": "display_data"
    }
   ],
   "source": [
    "plt.imshow(map_,\"gray\")"
   ]
  },
  {
   "cell_type": "code",
   "execution_count": null,
   "metadata": {},
   "outputs": [],
   "source": []
  }
 ],
 "metadata": {
  "kernelspec": {
   "display_name": "Python 3.10.6 ('env': venv)",
   "language": "python",
   "name": "python3"
  },
  "language_info": {
   "codemirror_mode": {
    "name": "ipython",
    "version": 3
   },
   "file_extension": ".py",
   "mimetype": "text/x-python",
   "name": "python",
   "nbconvert_exporter": "python",
   "pygments_lexer": "ipython3",
   "version": "3.10.6"
  },
  "orig_nbformat": 4,
  "vscode": {
   "interpreter": {
    "hash": "21ee427da83a7b8bdaeb85e4bd02cbcd0ea0964d963a4ee0d4eec0eee89c6852"
   }
  }
 },
 "nbformat": 4,
 "nbformat_minor": 2
}
